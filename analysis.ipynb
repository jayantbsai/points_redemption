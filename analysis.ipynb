{
  "cells": [
    {
      "cell_type": "markdown",
      "metadata": {
        "id": "c7q4Tm0bnvQX"
      },
      "source": [
        "# **Maximing Redemption Points**\n",
        "\n",
        "With the holiday sales upon us and all of us looking for great deals, I decided to redeem credit card points to purchase some Apple products. *Yes, I'm an Apple fanboy.*\n",
        "\n",
        "This notebook shows how I used data to determine the best value for my points."
      ]
    },
    {
      "cell_type": "code",
      "execution_count": 4,
      "metadata": {
        "id": "BAGSnsRkm3HD"
      },
      "outputs": [],
      "source": [
        "# import all required libs\n",
        "import numpy as np\n",
        "import pandas as pd\n",
        "import matplotlib.pyplot as plt\n",
        "\n",
        "%matplotlib inline"
      ]
    },
    {
      "cell_type": "markdown",
      "metadata": {
        "id": "dGcWEmNf24SG"
      },
      "source": [
        "# Data\n",
        "\n",
        "Data collection required looking up the item in the redemption site, matching it up with the Apple product to find the current price on the Apple website.\n",
        "\n",
        "*Notes:*\n",
        "*   Points & prices as on Nov 18th, 2023\n",
        "*   The M2 MacBook Pro is no longer available to order, so required some Googling to find historical price\n",
        "*   10% discounted gift card, offer valid until Jan 1st, 2024"
      ]
    },
    {
      "cell_type": "code",
      "execution_count": 5,
      "metadata": {
        "id": "AMnOcHbjqTav"
      },
      "outputs": [],
      "source": [
        "# load data from csv\n",
        "df = pd.read_csv('files/data.csv')"
      ]
    },
    {
      "cell_type": "markdown",
      "metadata": {
        "id": "JBsMCSeSXoy1"
      },
      "source": [
        "With 49,037 points to redeem, this is a simple query to find the product(s) to redeem."
      ]
    },
    {
      "cell_type": "code",
      "execution_count": 6,
      "metadata": {
        "colab": {
          "base_uri": "https://localhost:8080/",
          "height": 160
        },
        "id": "rUepLvnce3ZG",
        "outputId": "9da270eb-84c6-477f-9a9c-e706834b23b6"
      },
      "outputs": [
        {
          "name": "stdout",
          "output_type": "stream",
          "text": [
            "Use points to order 3 items\n"
          ]
        },
        {
          "data": {
            "text/html": [
              "<div>\n",
              "<style scoped>\n",
              "    .dataframe tbody tr th:only-of-type {\n",
              "        vertical-align: middle;\n",
              "    }\n",
              "\n",
              "    .dataframe tbody tr th {\n",
              "        vertical-align: top;\n",
              "    }\n",
              "\n",
              "    .dataframe thead th {\n",
              "        text-align: right;\n",
              "    }\n",
              "</style>\n",
              "<table border=\"1\" class=\"dataframe\">\n",
              "  <thead>\n",
              "    <tr style=\"text-align: right;\">\n",
              "      <th></th>\n",
              "      <th>type</th>\n",
              "      <th>product</th>\n",
              "      <th>points</th>\n",
              "      <th>price</th>\n",
              "    </tr>\n",
              "  </thead>\n",
              "  <tbody>\n",
              "    <tr>\n",
              "      <th>0</th>\n",
              "      <td>GIFTCARD</td>\n",
              "      <td>$25 Apple Gift Card</td>\n",
              "      <td>2250</td>\n",
              "      <td>25.0</td>\n",
              "    </tr>\n",
              "    <tr>\n",
              "      <th>1</th>\n",
              "      <td>GIFTCARD</td>\n",
              "      <td>$50 Apple Gift Card</td>\n",
              "      <td>4500</td>\n",
              "      <td>50.0</td>\n",
              "    </tr>\n",
              "    <tr>\n",
              "      <th>2</th>\n",
              "      <td>GIFTCARD</td>\n",
              "      <td>$100 Apple Gift Card</td>\n",
              "      <td>9000</td>\n",
              "      <td>100.0</td>\n",
              "    </tr>\n",
              "  </tbody>\n",
              "</table>\n",
              "</div>"
            ],
            "text/plain": [
              "       type               product  points  price\n",
              "0  GIFTCARD   $25 Apple Gift Card    2250   25.0\n",
              "1  GIFTCARD   $50 Apple Gift Card    4500   50.0\n",
              "2  GIFTCARD  $100 Apple Gift Card    9000  100.0"
            ]
          },
          "execution_count": 6,
          "metadata": {},
          "output_type": "execute_result"
        }
      ],
      "source": [
        "# find all eligible giftcards\n",
        "giftcard_list = df[:3]\n",
        "giftcard_list = giftcard_list[giftcard_list['points'] < 49037]\n",
        "print(f'Use points to order {len(giftcard_list)} items')\n",
        "giftcard_list"
      ]
    },
    {
      "cell_type": "code",
      "execution_count": 7,
      "metadata": {
        "colab": {
          "base_uri": "https://localhost:8080/",
          "height": 563
        },
        "id": "LGEnr1YFCMA9",
        "outputId": "1e2acdb6-3838-4776-f397-1fc97178cb84"
      },
      "outputs": [
        {
          "name": "stdout",
          "output_type": "stream",
          "text": [
            "Use points to order 16 items\n"
          ]
        },
        {
          "data": {
            "text/html": [
              "<div>\n",
              "<style scoped>\n",
              "    .dataframe tbody tr th:only-of-type {\n",
              "        vertical-align: middle;\n",
              "    }\n",
              "\n",
              "    .dataframe tbody tr th {\n",
              "        vertical-align: top;\n",
              "    }\n",
              "\n",
              "    .dataframe thead th {\n",
              "        text-align: right;\n",
              "    }\n",
              "</style>\n",
              "<table border=\"1\" class=\"dataframe\">\n",
              "  <thead>\n",
              "    <tr style=\"text-align: right;\">\n",
              "      <th></th>\n",
              "      <th>type</th>\n",
              "      <th>product</th>\n",
              "      <th>points</th>\n",
              "      <th>price</th>\n",
              "    </tr>\n",
              "  </thead>\n",
              "  <tbody>\n",
              "    <tr>\n",
              "      <th>3</th>\n",
              "      <td>ACCESSORY</td>\n",
              "      <td>35W Dual USB-C Port Compact Power Adapter</td>\n",
              "      <td>12400</td>\n",
              "      <td>59.0</td>\n",
              "    </tr>\n",
              "    <tr>\n",
              "      <th>4</th>\n",
              "      <td>ACCESSORY</td>\n",
              "      <td>USB SuperDrive</td>\n",
              "      <td>15300</td>\n",
              "      <td>79.0</td>\n",
              "    </tr>\n",
              "    <tr>\n",
              "      <th>5</th>\n",
              "      <td>ACCESSORY</td>\n",
              "      <td>96W USB-C Power Adapter</td>\n",
              "      <td>15300</td>\n",
              "      <td>79.0</td>\n",
              "    </tr>\n",
              "    <tr>\n",
              "      <th>6</th>\n",
              "      <td>ACCESSORY</td>\n",
              "      <td>HomePod mini</td>\n",
              "      <td>18100</td>\n",
              "      <td>99.0</td>\n",
              "    </tr>\n",
              "    <tr>\n",
              "      <th>7</th>\n",
              "      <td>ACCESSORY</td>\n",
              "      <td>Magic Keyboard with Numeric Keypad</td>\n",
              "      <td>22800</td>\n",
              "      <td>129.0</td>\n",
              "    </tr>\n",
              "    <tr>\n",
              "      <th>8</th>\n",
              "      <td>ACCESSORY</td>\n",
              "      <td>Magic Trackpad - White</td>\n",
              "      <td>22800</td>\n",
              "      <td>129.0</td>\n",
              "    </tr>\n",
              "    <tr>\n",
              "      <th>9</th>\n",
              "      <td>ACCESSORY</td>\n",
              "      <td>Smart Keyboard for iPad (9th Gen)</td>\n",
              "      <td>27100</td>\n",
              "      <td>159.0</td>\n",
              "    </tr>\n",
              "    <tr>\n",
              "      <th>10</th>\n",
              "      <td>ACCESSORY</td>\n",
              "      <td>Magic Keyboard Folio for iPad (10th Gen)</td>\n",
              "      <td>40000</td>\n",
              "      <td>249.0</td>\n",
              "    </tr>\n",
              "    <tr>\n",
              "      <th>11</th>\n",
              "      <td>ACCESSORY</td>\n",
              "      <td>11\" Magic Keyboard for iPad Pro (4th Gen) and ...</td>\n",
              "      <td>47200</td>\n",
              "      <td>299.0</td>\n",
              "    </tr>\n",
              "    <tr>\n",
              "      <th>13</th>\n",
              "      <td>TV</td>\n",
              "      <td>Apple TV 4K WiFi 64GB</td>\n",
              "      <td>22500</td>\n",
              "      <td>129.0</td>\n",
              "    </tr>\n",
              "    <tr>\n",
              "      <th>14</th>\n",
              "      <td>TV</td>\n",
              "      <td>Apple TV 4K WiFi/Ethernet 128GB</td>\n",
              "      <td>25300</td>\n",
              "      <td>149.0</td>\n",
              "    </tr>\n",
              "    <tr>\n",
              "      <th>18</th>\n",
              "      <td>HEADPHONE</td>\n",
              "      <td>AirPods - 2nd Gen</td>\n",
              "      <td>22500</td>\n",
              "      <td>129.0</td>\n",
              "    </tr>\n",
              "    <tr>\n",
              "      <th>19</th>\n",
              "      <td>HEADPHONE</td>\n",
              "      <td>AirPods (3rd Gen) with MagSafe Charging Case</td>\n",
              "      <td>29700</td>\n",
              "      <td>179.0</td>\n",
              "    </tr>\n",
              "    <tr>\n",
              "      <th>20</th>\n",
              "      <td>HEADPHONE</td>\n",
              "      <td>AirPods Pro (2nd Gen)</td>\n",
              "      <td>39700</td>\n",
              "      <td>249.0</td>\n",
              "    </tr>\n",
              "    <tr>\n",
              "      <th>22</th>\n",
              "      <td>WATCH</td>\n",
              "      <td>Apple Watch SE GPS 40mm</td>\n",
              "      <td>40000</td>\n",
              "      <td>249.0</td>\n",
              "    </tr>\n",
              "    <tr>\n",
              "      <th>23</th>\n",
              "      <td>WATCH</td>\n",
              "      <td>Apple Watch SE GPS 44mm</td>\n",
              "      <td>44400</td>\n",
              "      <td>279.0</td>\n",
              "    </tr>\n",
              "  </tbody>\n",
              "</table>\n",
              "</div>"
            ],
            "text/plain": [
              "         type                                            product  points  \\\n",
              "3   ACCESSORY          35W Dual USB-C Port Compact Power Adapter   12400   \n",
              "4   ACCESSORY                                     USB SuperDrive   15300   \n",
              "5   ACCESSORY                            96W USB-C Power Adapter   15300   \n",
              "6   ACCESSORY                                       HomePod mini   18100   \n",
              "7   ACCESSORY                 Magic Keyboard with Numeric Keypad   22800   \n",
              "8   ACCESSORY                             Magic Trackpad - White   22800   \n",
              "9   ACCESSORY                  Smart Keyboard for iPad (9th Gen)   27100   \n",
              "10  ACCESSORY           Magic Keyboard Folio for iPad (10th Gen)   40000   \n",
              "11  ACCESSORY  11\" Magic Keyboard for iPad Pro (4th Gen) and ...   47200   \n",
              "13         TV                              Apple TV 4K WiFi 64GB   22500   \n",
              "14         TV                    Apple TV 4K WiFi/Ethernet 128GB   25300   \n",
              "18  HEADPHONE                                  AirPods - 2nd Gen   22500   \n",
              "19  HEADPHONE       AirPods (3rd Gen) with MagSafe Charging Case   29700   \n",
              "20  HEADPHONE                              AirPods Pro (2nd Gen)   39700   \n",
              "22      WATCH                            Apple Watch SE GPS 40mm   40000   \n",
              "23      WATCH                            Apple Watch SE GPS 44mm   44400   \n",
              "\n",
              "    price  \n",
              "3    59.0  \n",
              "4    79.0  \n",
              "5    79.0  \n",
              "6    99.0  \n",
              "7   129.0  \n",
              "8   129.0  \n",
              "9   159.0  \n",
              "10  249.0  \n",
              "11  299.0  \n",
              "13  129.0  \n",
              "14  149.0  \n",
              "18  129.0  \n",
              "19  179.0  \n",
              "20  249.0  \n",
              "22  249.0  \n",
              "23  279.0  "
            ]
          },
          "execution_count": 7,
          "metadata": {},
          "output_type": "execute_result"
        }
      ],
      "source": [
        "# find all eligible Apple products, minus gift cards\n",
        "points_list = df[3:]\n",
        "points_list = points_list[points_list['points'] < 49037]\n",
        "print(f'Use points to order {len(points_list)} items')\n",
        "points_list"
      ]
    },
    {
      "cell_type": "markdown",
      "metadata": {
        "id": "rxOmZ_10vkHf"
      },
      "source": [
        "# Basic Visualization"
      ]
    },
    {
      "cell_type": "code",
      "execution_count": 8,
      "metadata": {
        "colab": {
          "base_uri": "https://localhost:8080/",
          "height": 430
        },
        "id": "QL-MzUxrsnQ3",
        "outputId": "06b7b798-cc8a-441e-93a7-27dd7b4a9a98"
      },
      "outputs": [
        {
          "data": {
            "image/png": "[encoded data removed]",
            "text/plain": [
              "<Figure size 640x480 with 1 Axes>"
            ]
          },
          "metadata": {},
          "output_type": "display_data"
        }
      ],
      "source": [
        "# get x, y coord data\n",
        "x = df['points']\n",
        "y = df['price']\n",
        "\n",
        "# plot points to prices on graph\n",
        "plt.scatter(x, y)\n",
        "\n",
        "# plot polynomial gradient\n",
        "s, i = np.polyfit(x, y, 1)\n",
        "plt.axline((x.iloc[0], y.iloc[0]),\n",
        "            slope=s,\n",
        "            color='red',\n",
        "            zorder=0)\n",
        "\n",
        "plt.show()"
      ]
    },
    {
      "cell_type": "markdown",
      "metadata": {
        "id": "wQnnS9_xuheg"
      },
      "source": [
        "There is a linear co-relation of points to price. More points are needed to get the higher priced items. *Not surprising.*"
      ]
    },
    {
      "cell_type": "markdown",
      "metadata": {
        "id": "5Nx-50yIv6J6"
      },
      "source": [
        "# Value For Money (price per point)\n",
        "\n",
        "The following visualization shows where the most value for each point is."
      ]
    },
    {
      "cell_type": "code",
      "execution_count": 9,
      "metadata": {
        "colab": {
          "base_uri": "https://localhost:8080/",
          "height": 504
        },
        "id": "6TFj5X4Ust-H",
        "outputId": "b2e3e747-a104-4ba9-d273-de6e005316c2"
      },
      "outputs": [
        {
          "data": {
            "image/png": "[encoded data removed]",
            "text/plain": [
              "<Figure size 640x480 with 1 Axes>"
            ]
          },
          "metadata": {},
          "output_type": "display_data"
        }
      ],
      "source": [
        "# get x & compute y data\n",
        "x = df['type']\n",
        "y = df['price']/df['points']\n",
        "\n",
        "# plot points\n",
        "plt.scatter(x, y)\n",
        "plt.xticks(rotation=90)\n",
        "plt.show()"
      ]
    },
    {
      "cell_type": "markdown",
      "metadata": {
        "id": "TnNNmFemM-x2"
      },
      "source": [
        "The above graph shows that the value for money is when purchasing a gift card, 1.11¢ per point. The rest of products are clustered in the 0.05¢-0.07¢ per point range."
      ]
    },
    {
      "cell_type": "markdown",
      "metadata": {
        "id": "i-pVL-xk4l7m"
      },
      "source": [
        "# Buying Decision\n",
        "\n",
        "Having 49,037 points to be redeemed, and most value was redeeming the gift cards.\n",
        "\n",
        "Points & Dollars\n",
        "*   3 x \\$25 Apple Gift Card  = 3 * 2,250 = 6,750 = \\$75\n",
        "*   3 x \\$50 Apple Gift Card  = 3 * 4,500 = 13,500 = \\$150\n",
        "*   3 x \\$100 Apple Gift Card = 3 * 9,000 = 27,000 = \\$300\n",
        "*   Total = 47,250 = \\$525"
      ]
    },
    {
      "cell_type": "code",
      "execution_count": 10,
      "metadata": {
        "colab": {
          "base_uri": "https://localhost:8080/",
          "height": 811
        },
        "id": "g4BkGe6dDgYt",
        "outputId": "479f0803-b17a-48f0-dea0-ce758d55fabb"
      },
      "outputs": [
        {
          "name": "stdout",
          "output_type": "stream",
          "text": [
            "Use gift cards to order 24 items\n"
          ]
        },
        {
          "data": {
            "text/html": [
              "<div>\n",
              "<style scoped>\n",
              "    .dataframe tbody tr th:only-of-type {\n",
              "        vertical-align: middle;\n",
              "    }\n",
              "\n",
              "    .dataframe tbody tr th {\n",
              "        vertical-align: top;\n",
              "    }\n",
              "\n",
              "    .dataframe thead th {\n",
              "        text-align: right;\n",
              "    }\n",
              "</style>\n",
              "<table border=\"1\" class=\"dataframe\">\n",
              "  <thead>\n",
              "    <tr style=\"text-align: right;\">\n",
              "      <th></th>\n",
              "      <th>type</th>\n",
              "      <th>product</th>\n",
              "      <th>points</th>\n",
              "      <th>price</th>\n",
              "    </tr>\n",
              "  </thead>\n",
              "  <tbody>\n",
              "    <tr>\n",
              "      <th>3</th>\n",
              "      <td>ACCESSORY</td>\n",
              "      <td>35W Dual USB-C Port Compact Power Adapter</td>\n",
              "      <td>12400</td>\n",
              "      <td>59.0</td>\n",
              "    </tr>\n",
              "    <tr>\n",
              "      <th>4</th>\n",
              "      <td>ACCESSORY</td>\n",
              "      <td>USB SuperDrive</td>\n",
              "      <td>15300</td>\n",
              "      <td>79.0</td>\n",
              "    </tr>\n",
              "    <tr>\n",
              "      <th>5</th>\n",
              "      <td>ACCESSORY</td>\n",
              "      <td>96W USB-C Power Adapter</td>\n",
              "      <td>15300</td>\n",
              "      <td>79.0</td>\n",
              "    </tr>\n",
              "    <tr>\n",
              "      <th>6</th>\n",
              "      <td>ACCESSORY</td>\n",
              "      <td>HomePod mini</td>\n",
              "      <td>18100</td>\n",
              "      <td>99.0</td>\n",
              "    </tr>\n",
              "    <tr>\n",
              "      <th>7</th>\n",
              "      <td>ACCESSORY</td>\n",
              "      <td>Magic Keyboard with Numeric Keypad</td>\n",
              "      <td>22800</td>\n",
              "      <td>129.0</td>\n",
              "    </tr>\n",
              "    <tr>\n",
              "      <th>8</th>\n",
              "      <td>ACCESSORY</td>\n",
              "      <td>Magic Trackpad - White</td>\n",
              "      <td>22800</td>\n",
              "      <td>129.0</td>\n",
              "    </tr>\n",
              "    <tr>\n",
              "      <th>9</th>\n",
              "      <td>ACCESSORY</td>\n",
              "      <td>Smart Keyboard for iPad (9th Gen)</td>\n",
              "      <td>27100</td>\n",
              "      <td>159.0</td>\n",
              "    </tr>\n",
              "    <tr>\n",
              "      <th>10</th>\n",
              "      <td>ACCESSORY</td>\n",
              "      <td>Magic Keyboard Folio for iPad (10th Gen)</td>\n",
              "      <td>40000</td>\n",
              "      <td>249.0</td>\n",
              "    </tr>\n",
              "    <tr>\n",
              "      <th>11</th>\n",
              "      <td>ACCESSORY</td>\n",
              "      <td>11\" Magic Keyboard for iPad Pro (4th Gen) and ...</td>\n",
              "      <td>47200</td>\n",
              "      <td>299.0</td>\n",
              "    </tr>\n",
              "    <tr>\n",
              "      <th>12</th>\n",
              "      <td>ACCESSORY</td>\n",
              "      <td>12.9\" Magic Keyboard for iPad Pro (6th Gen)</td>\n",
              "      <td>54400</td>\n",
              "      <td>349.0</td>\n",
              "    </tr>\n",
              "    <tr>\n",
              "      <th>13</th>\n",
              "      <td>TV</td>\n",
              "      <td>Apple TV 4K WiFi 64GB</td>\n",
              "      <td>22500</td>\n",
              "      <td>129.0</td>\n",
              "    </tr>\n",
              "    <tr>\n",
              "      <th>14</th>\n",
              "      <td>TV</td>\n",
              "      <td>Apple TV 4K WiFi/Ethernet 128GB</td>\n",
              "      <td>25300</td>\n",
              "      <td>149.0</td>\n",
              "    </tr>\n",
              "    <tr>\n",
              "      <th>18</th>\n",
              "      <td>HEADPHONE</td>\n",
              "      <td>AirPods - 2nd Gen</td>\n",
              "      <td>22500</td>\n",
              "      <td>129.0</td>\n",
              "    </tr>\n",
              "    <tr>\n",
              "      <th>19</th>\n",
              "      <td>HEADPHONE</td>\n",
              "      <td>AirPods (3rd Gen) with MagSafe Charging Case</td>\n",
              "      <td>29700</td>\n",
              "      <td>179.0</td>\n",
              "    </tr>\n",
              "    <tr>\n",
              "      <th>20</th>\n",
              "      <td>HEADPHONE</td>\n",
              "      <td>AirPods Pro (2nd Gen)</td>\n",
              "      <td>39700</td>\n",
              "      <td>249.0</td>\n",
              "    </tr>\n",
              "    <tr>\n",
              "      <th>22</th>\n",
              "      <td>WATCH</td>\n",
              "      <td>Apple Watch SE GPS 40mm</td>\n",
              "      <td>40000</td>\n",
              "      <td>249.0</td>\n",
              "    </tr>\n",
              "    <tr>\n",
              "      <th>23</th>\n",
              "      <td>WATCH</td>\n",
              "      <td>Apple Watch SE GPS 44mm</td>\n",
              "      <td>44400</td>\n",
              "      <td>279.0</td>\n",
              "    </tr>\n",
              "    <tr>\n",
              "      <th>24</th>\n",
              "      <td>WATCH</td>\n",
              "      <td>Apple Watch Series 9 GPS 41mm</td>\n",
              "      <td>61600</td>\n",
              "      <td>399.0</td>\n",
              "    </tr>\n",
              "    <tr>\n",
              "      <th>25</th>\n",
              "      <td>WATCH</td>\n",
              "      <td>Apple Watch Series 9 GPS 45mm</td>\n",
              "      <td>66000</td>\n",
              "      <td>429.0</td>\n",
              "    </tr>\n",
              "    <tr>\n",
              "      <th>31</th>\n",
              "      <td>TABLET</td>\n",
              "      <td>10.9\" iPad WiFi 64GB - 10th Gen</td>\n",
              "      <td>69100</td>\n",
              "      <td>449.0</td>\n",
              "    </tr>\n",
              "    <tr>\n",
              "      <th>32</th>\n",
              "      <td>TABLET</td>\n",
              "      <td>10.2\" iPad WiFi 256GB - 9th Gen</td>\n",
              "      <td>73400</td>\n",
              "      <td>479.0</td>\n",
              "    </tr>\n",
              "    <tr>\n",
              "      <th>33</th>\n",
              "      <td>TABLET</td>\n",
              "      <td>iPad mini WiFi 64GB - 6th Gen</td>\n",
              "      <td>76000</td>\n",
              "      <td>499.0</td>\n",
              "    </tr>\n",
              "    <tr>\n",
              "      <th>48</th>\n",
              "      <td>MOBILE</td>\n",
              "      <td>iPhone SE 64GB - 3rd Gen</td>\n",
              "      <td>66100</td>\n",
              "      <td>429.0</td>\n",
              "    </tr>\n",
              "    <tr>\n",
              "      <th>49</th>\n",
              "      <td>MOBILE</td>\n",
              "      <td>iPhone SE 128GB - 3rd Gen</td>\n",
              "      <td>73300</td>\n",
              "      <td>479.0</td>\n",
              "    </tr>\n",
              "  </tbody>\n",
              "</table>\n",
              "</div>"
            ],
            "text/plain": [
              "         type                                            product  points  \\\n",
              "3   ACCESSORY          35W Dual USB-C Port Compact Power Adapter   12400   \n",
              "4   ACCESSORY                                     USB SuperDrive   15300   \n",
              "5   ACCESSORY                            96W USB-C Power Adapter   15300   \n",
              "6   ACCESSORY                                       HomePod mini   18100   \n",
              "7   ACCESSORY                 Magic Keyboard with Numeric Keypad   22800   \n",
              "8   ACCESSORY                             Magic Trackpad - White   22800   \n",
              "9   ACCESSORY                  Smart Keyboard for iPad (9th Gen)   27100   \n",
              "10  ACCESSORY           Magic Keyboard Folio for iPad (10th Gen)   40000   \n",
              "11  ACCESSORY  11\" Magic Keyboard for iPad Pro (4th Gen) and ...   47200   \n",
              "12  ACCESSORY        12.9\" Magic Keyboard for iPad Pro (6th Gen)   54400   \n",
              "13         TV                              Apple TV 4K WiFi 64GB   22500   \n",
              "14         TV                    Apple TV 4K WiFi/Ethernet 128GB   25300   \n",
              "18  HEADPHONE                                  AirPods - 2nd Gen   22500   \n",
              "19  HEADPHONE       AirPods (3rd Gen) with MagSafe Charging Case   29700   \n",
              "20  HEADPHONE                              AirPods Pro (2nd Gen)   39700   \n",
              "22      WATCH                            Apple Watch SE GPS 40mm   40000   \n",
              "23      WATCH                            Apple Watch SE GPS 44mm   44400   \n",
              "24      WATCH                      Apple Watch Series 9 GPS 41mm   61600   \n",
              "25      WATCH                      Apple Watch Series 9 GPS 45mm   66000   \n",
              "31     TABLET                    10.9\" iPad WiFi 64GB - 10th Gen   69100   \n",
              "32     TABLET                    10.2\" iPad WiFi 256GB - 9th Gen   73400   \n",
              "33     TABLET                      iPad mini WiFi 64GB - 6th Gen   76000   \n",
              "48     MOBILE                           iPhone SE 64GB - 3rd Gen   66100   \n",
              "49     MOBILE                          iPhone SE 128GB - 3rd Gen   73300   \n",
              "\n",
              "    price  \n",
              "3    59.0  \n",
              "4    79.0  \n",
              "5    79.0  \n",
              "6    99.0  \n",
              "7   129.0  \n",
              "8   129.0  \n",
              "9   159.0  \n",
              "10  249.0  \n",
              "11  299.0  \n",
              "12  349.0  \n",
              "13  129.0  \n",
              "14  149.0  \n",
              "18  129.0  \n",
              "19  179.0  \n",
              "20  249.0  \n",
              "22  249.0  \n",
              "23  279.0  \n",
              "24  399.0  \n",
              "25  429.0  \n",
              "31  449.0  \n",
              "32  479.0  \n",
              "33  499.0  \n",
              "48  429.0  \n",
              "49  479.0  "
            ]
          },
          "execution_count": 10,
          "metadata": {},
          "output_type": "execute_result"
        }
      ],
      "source": [
        "# filter out gift cards, find all products purchasable using gift cards\n",
        "price_list = df[3:]\n",
        "price_list = price_list[price_list['price'] < 525.00]\n",
        "print(f'Use gift cards to order {len(price_list)} items')\n",
        "price_list"
      ]
    }
  ],
  "metadata": {
    "colab": {
      "provenance": []
    },
    "kernelspec": {
      "display_name": "Python 3",
      "name": "python3"
    },
    "language_info": {
      "codemirror_mode": {
        "name": "ipython",
        "version": 3
      },
      "file_extension": ".py",
      "mimetype": "text/x-python",
      "name": "python",
      "nbconvert_exporter": "python",
      "pygments_lexer": "ipython3",
      "version": "3.11.6"
    }
  },
  "nbformat": 4,
  "nbformat_minor": 0
}
